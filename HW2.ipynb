{
  "nbformat": 4,
  "nbformat_minor": 2,
  "metadata": {
    "colab": {
      "name": "HW2.ipynb",
      "provenance": [],
      "collapsed_sections": []
    },
    "kernelspec": {
      "name": "python3",
      "display_name": "Python 3.9.1 64-bit"
    },
    "language_info": {
      "name": "python",
      "version": "3.9.1",
      "mimetype": "text/x-python",
      "codemirror_mode": {
        "name": "ipython",
        "version": 3
      },
      "pygments_lexer": "ipython3",
      "nbconvert_exporter": "python",
      "file_extension": ".py"
    },
    "interpreter": {
      "hash": "61eba54e15758264657fe923d866bbea65419d38f5a434c50d0babaa7722a0d0"
    }
  },
  "cells": [
    {
      "cell_type": "markdown",
      "source": [
        "# HW2 9/23\n",
        "# Andy Chuang, Josh Jeon, Cliff Lin"
      ],
      "metadata": {
        "id": "Z8xxzpjLJrVL"
      }
    },
    {
      "cell_type": "markdown",
      "source": [
        "#Question 1\r\n",
        "Page Rank is an algorithm which allows Google Search to rank web pages in their search results. It works by counting the number and quality of links to a page and calculates a rough estimate of importance of website. Page Rank links analysis algorithm and assigns numerical weighting to each element of a hyperlinked set of docs. The purpose is to measure relative importance within the set. For example, a page rank algorithm would output a probability distribution used to represent the likelihood that a person randomly clicking on links will arrive on a particular page. \r\n",
        "EX: document with PageRank of 0.5 = 50% chance that person clicking on random link will be directed to said document."
      ],
      "metadata": {
        "id": "SikWk6YMJo3C"
      }
    },
    {
      "cell_type": "markdown",
      "source": [
        "# Question 2\n",
        "A good \"metaphor\" for using Markov chains in the ranking problem could be a \"bandwagon fan,\" a fan who tends to support\n",
        "whichever team is doing better. Each team starts with the same amount of fans - each fan has the choice to change teams or\n",
        "stay with their current team. They can choose after each iteration."
      ],
      "metadata": {
        "id": "ClZB6dJeKuCL"
      }
    },
    {
      "cell_type": "markdown",
      "source": [
        "#Question 3"
      ],
      "metadata": {
        "id": "klu_uDSSK1sO"
      }
    },
    {
      "cell_type": "code",
      "execution_count": null,
      "source": [
        "from google.colab import files\r\n",
        "data = files.upload()"
      ],
      "outputs": [
        {
          "output_type": "display_data",
          "data": {
            "text/html": [
              "\n",
              "     <input type=\"file\" id=\"files-397c0a35-b106-4ef9-8016-cd139fe4df62\" name=\"files[]\" multiple disabled\n",
              "        style=\"border:none\" />\n",
              "     <output id=\"result-397c0a35-b106-4ef9-8016-cd139fe4df62\">\n",
              "      Upload widget is only available when the cell has been executed in the\n",
              "      current browser session. Please rerun this cell to enable.\n",
              "      </output>\n",
              "      <script src=\"/nbextensions/google.colab/files.js\"></script> "
            ],
            "text/plain": [
              "<IPython.core.display.HTML object>"
            ]
          },
          "metadata": {}
        },
        {
          "output_type": "stream",
          "name": "stdout",
          "text": [
            "Saving SB_box_scores_2019_without_rank.csv to SB_box_scores_2019_without_rank.csv\n"
          ]
        }
      ],
      "metadata": {
        "colab": {
          "resources": {
            "http://localhost:8080/nbextensions/google.colab/files.js": {
              "data": "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",
              "ok": true,
              "headers": [
                [
                  "content-type",
                  "application/javascript"
                ]
              ],
              "status": 200,
              "status_text": ""
            }
          },
          "base_uri": "https://localhost:8080/",
          "height": 72
        },
        "id": "7S-5W4DpKRc9",
        "outputId": "f5881ce9-c599-4fd6-c69d-643c3d085e9e"
      }
    },
    {
      "cell_type": "code",
      "execution_count": 3,
      "source": [
        "import pandas as pd\r\n",
        "import numpy as np\r\n",
        "import os\r\n",
        "# p = r\"C:\\Users\\joshj\\Downloads\\SB_box_scores_2019_without_rank.csv\"\r\n",
        "# data = pd.read_csv(p, index_col=0)\r\n",
        "# os.chdir('/Users/joshjeon/Documents')\r\n",
        "p1 = \"2021 UVA Football Data-selected\\\\SB_box_scores_2019_without_rank.csv\"\r\n",
        "p = \"SB_box_scores_2019_without_rank.csv\"\r\n",
        "data = pd.read_csv(p1, index_col=0)\r\n",
        "\r\n",
        "### finding all unique teams\r\n",
        "teams = pd.unique(pd.concat([data['Winner'],data['Loser']]))\r\n",
        "\r\n",
        "### # of unique teams = 217\r\n",
        "# print(len(teams))\r\n",
        "\r\n",
        "### # of wins per team\r\n",
        "# print(data[\"Winner\"].value_counts())\r\n",
        "\r\n",
        "\"\"\" \r\n",
        "The following section was an attempt to categorize by conference (which didn't work)\r\n",
        "\"\"\"\r\n",
        "# # data = data.head(500)\r\n",
        "# # print(data)\r\n",
        "# ### initialize all games winners and losers into categories\r\n",
        "# init_cats = []\r\n",
        "# for index, game in data.iterrows():\r\n",
        "#     init_cats.append([game[\"Winner\"],game[\"Loser\"]])\r\n",
        "# # print(init_cats)\r\n",
        "\r\n",
        "# ### append any teams that played each other to their respective categories\r\n",
        "# count1 = 0\r\n",
        "# count2 = 0\r\n",
        "# # for index, game in data.iterrows():\r\n",
        "# #     for category in init_cats_copy:\r\n",
        "# #         # print(category)\r\n",
        "# #         if game[\"Winner\"] in category:\r\n",
        "# #             init_cats[count].append(game[\"Loser\"])\r\n",
        "# #         if game[\"Loser\"] in category:\r\n",
        "# #             init_cats[count].append(game[\"Winner\"])\r\n",
        "# #         count += 1\r\n",
        "# #     count = 0\r\n",
        "# import copy\r\n",
        "# init_cats_copy = copy.deepcopy(init_cats)\r\n",
        "# # for category1 in init_cats_copy:\r\n",
        "# #     for category2 in init_cats_copy:\r\n",
        "# #         if category1 != category2:\r\n",
        "# #             for temp1 in category1:\r\n",
        "# #                 if temp1 in category2:\r\n",
        "# #                     init_cats[count1].append(temp1)\r\n",
        "# #             for temp2 in category2:\r\n",
        "# #                 if temp2 in category1:\r\n",
        "# #                     init_cats[count2].append(temp2)\r\n",
        "# #         count1 += 1\r\n",
        "# #     count2 += 1\r\n",
        "# #     count1 = 0\r\n",
        "# for category1 in init_cats:\r\n",
        "#     for category2 in init_cats:\r\n",
        "#         if category1 != category2:\r\n",
        "#             if category1[0] in init_cats_copy[count1]:\r\n",
        "#                 init_cats_copy[count1].append(category1[1])\r\n",
        "#             if category1[1] in init_cats_copy[count1]:\r\n",
        "#                 init_cats_copy[count1].append(category1[0])\r\n",
        "#             if category2[0] in init_cats_copy[count2]:\r\n",
        "#                 init_cats_copy[count2].append(category2[1])\r\n",
        "#             if category2[1] in init_cats_copy[count2]:\r\n",
        "#                 init_cats_copy[count2].append(category2[0])\r\n",
        "#     count1 += 1\r\n",
        "#     count2 += 1\r\n",
        "#     # count1 = 0\r\n",
        "# print(len(init_cats_copy[1]))\r\n",
        "# ### get unique values into each category\r\n",
        "# temp1 = []\r\n",
        "# temp2 = []\r\n",
        "# for category in init_cats_copy:\r\n",
        "#     for team in category:\r\n",
        "#         if team not in temp2:\r\n",
        "#             temp2.append(team)\r\n",
        "#     temp1.append(temp2)\r\n",
        "#     temp2 = []\r\n",
        "# print(len(temp1[1]))\r\n",
        "# print(len(temp1[3]))\r\n",
        "# ### standardize each category\r\n",
        "# temp3 = []\r\n",
        "# for category in temp1:\r\n",
        "#     category.sort()\r\n",
        "\r\n",
        "# ### get each unique categories to find the conferences\r\n",
        "# final_categories = []\r\n",
        "# for category in temp1:\r\n",
        "#     if category not in final_categories:\r\n",
        "#         final_categories.append(category)\r\n",
        "\r\n",
        "# print(len(final_categories))\r\n",
        "\r\n",
        "total_team_occurances = pd.concat([data['Winner'],data['Loser']])\r\n",
        "total_team_occurances = np.array(total_team_occurances)\r\n",
        "# create initial transition matrix\r\n",
        "teams = pd.DataFrame(teams)\r\n",
        "transition = np.zeros((teams.size,teams.size))\r\n",
        "count = 0\r\n",
        "for index, game in data.iterrows():\r\n",
        "    winner = game[\"Winner\"]\r\n",
        "    loser = game[\"Loser\"]\r\n",
        "    wp = game[\"Pts_winner\"]\r\n",
        "    lp = game[\"Pts_loser\"]\r\n",
        "    wIndex = teams.loc[teams[0] == winner].index[0]\r\n",
        "    lIndex = teams.loc[teams[0] == loser].index[0]\r\n",
        "    transition[lIndex][wIndex] = (wp/(wp+lp))\r\n",
        "    transition[wIndex][lIndex] = (lp/(lp+wp))\r\n",
        "\r\n",
        "# replace all unknown games with p = 0.5\r\n",
        "# for i in range(len(transition[0])):\r\n",
        "#     for j in range(len(transition[0])):\r\n",
        "#        if i != j:\r\n",
        "#            if transition[i][j] == 0:\r\n",
        "#                transition[i][j] = 0.5\r\n",
        "# corner = len(transition[0])-1\r\n",
        "# sum1 = 0\r\n",
        "# sum2 = 0\r\n",
        "# sum_col = 0\r\n",
        "# sum_row = 0\r\n",
        "# for i in range(len(transition[0])):\r\n",
        "#     corner = corner - i\r\n",
        "#     # sum_col = sum(transition[:,corner])-sum1\r\n",
        "#     # sum_row = transition.sum(axis=1)[corner]-sum2\r\n",
        "#     transition[i:corner,corner] = np.true_divide(transition[i:corner,corner], (1+sum1))\r\n",
        "#     transition[corner,i:corner] = np.true_divide(transition[corner,i:corner], (1+sum2))\r\n",
        "#     sum1 = 0\r\n",
        "#     sum2 = 0\r\n",
        "#     for i in range(corner-len(transition[0])-1):\r\n",
        "#         sum1 += transition[i,corner-1]\r\n",
        "#         sum2 += transition[corner-1,i]\r\n",
        "#     corner = len(transition[0])-1\r\n",
        "\r\n",
        "### make the matrix row-stochastic\r\n",
        "for i in range(len(transition[0])):\r\n",
        "    sum_row = transition[i].sum()\r\n",
        "    transition[i] /= sum_row\r\n",
        "\r\n",
        "### get proportions of games played\r\n",
        "gamesPlayed = []\r\n",
        "count = 0\r\n",
        "tempTeams = np.array(teams)\r\n",
        "for team in tempTeams:\r\n",
        "    for played in total_team_occurances:\r\n",
        "        if played == team:\r\n",
        "            count += 1\r\n",
        "    gamesPlayed.append(count)\r\n",
        "    count = 0\r\n",
        "gamesPlayed = np.array(gamesPlayed, dtype = np.float64)\r\n",
        "gamesPlayed /= data.shape[0]\r\n",
        "gamesPlayed = np.reshape(gamesPlayed,(217,1))\r\n",
        "\r\n",
        "### multiply transition matrix by proportions of games played\r\n",
        "for i in range(1):\r\n",
        "    gamesPlayed = transition.dot(gamesPlayed)\r\n",
        "gp = pd.DataFrame(gamesPlayed,columns = [\"rank\"])\r\n",
        "gp['index_col'] = range(217)\r\n",
        "gp = gp.sort_values(by='rank')\r\n",
        "gp2 = np.array(gp['index_col'])\r\n",
        "ranks = []\r\n",
        "for i in gp2:\r\n",
        "    ranks.append(tempTeams[i][0])\r\n",
        "print(ranks)\r\n",
        "\r\n"
      ],
      "outputs": [
        {
          "output_type": "stream",
          "name": "stdout",
          "text": [
            "[[0. 0. 0. ... 0. 0. 0.]\n",
            " [0. 0. 0. ... 0. 0. 0.]\n",
            " [0. 0. 0. ... 0. 0. 0.]\n",
            " ...\n",
            " [0. 0. 0. ... 0. 0. 0.]\n",
            " [0. 0. 0. ... 0. 0. 0.]\n",
            " [0. 0. 0. ... 0. 0. 0.]]\n",
            "['Virginia Tech', 'Liberty', 'Massachusetts', 'Minnesota', 'Wyoming', 'Western Kentucky', 'Louisiana Tech', 'East Carolina', 'Texas-El Paso', 'Memphis', 'Iowa State', 'Eastern Michigan', 'Incarnate Word', 'Norfolk State', 'Howard', 'Jackson State', 'Indiana State', 'Southeast Missouri State', 'South Carolina State', 'Prairie View A&M', 'Tennessee State', 'Southeastern Louisiana', 'Southern Utah', 'Charleston Southern', 'Montana State', 'Sam Houston State', 'James Madison', 'Illinois State', 'North Carolina A&T', 'Western Illinois', 'Citadel', 'Arkansas-Pine Bluff', 'Cal Poly', 'Houston Baptist', 'Northern Arizona', 'Fordham', 'Campbell', 'Georgia State', 'North Texas', 'West Virginia', 'Middle Tennessee State', 'Pittsburgh', 'New Mexico State', 'Colorado State', 'Hawaii', 'Arkansas State', 'Fresno State', 'Alabama-Birmingham', 'Kansas', 'Kent State', 'Florida International', 'Connecticut', 'Mississippi', 'San Jose State', 'Western Michigan', 'Baylor', 'Army', 'Central Michigan', 'Arkansas', 'Ball State', 'New Mexico', 'California', 'Ohio', 'Georgia Tech', 'Northern Illinois', 'Oklahoma State', 'Arizona', 'Arizona State', 'Old Dominion', 'Gardner-Webb', 'Nevada-Las Vegas', 'Morgan State', 'Grambling State', 'Georgia Southern', 'Boise State', 'Washington', 'Nevada', 'Southern Mississippi', 'Washington State', 'Appalachian State', 'Troy', 'Nicholls State', 'Duke', 'Holy Cross', 'Kansas State', 'Texas Tech', 'Western Carolina', 'Houston', 'Sacramento State', 'Northern Colorado', 'Air Force', 'Charlotte', 'Navy', 'Temple', 'Louisiana State', 'Abilene Christian', 'Buffalo', 'Oklahoma', 'Texas Christian', 'Kentucky', 'Florida Atlantic', 'Coastal Carolina', 'Southern Illinois', 'Virginia', 'South Alabama', 'Central Florida', 'Georgia', 'Marshall', 'Southern Methodist', 'Miami (OH)', 'Texas-San Antonio', 'Louisiana', 'Clemson', 'Illinois', 'Louisiana-Monroe', 'Texas State', 'Toledo', 'Boston College', 'Stanford', 'Purdue', 'Tulane', 'Vanderbilt', 'Indiana', 'Oregon', 'South Florida', 'Brigham Young', 'Wake Forest', 'Missouri', 'San Diego State', 'Maryland', 'Akron', 'North Carolina', 'Alabama', 'Colorado', 'Murray State', 'Southern California', 'Nebraska', 'Florida State', 'Northwestern', 'Syracuse', 'East Tennessee State', 'Rice', 'Miami (FL)', 'North Carolina State', 'Mississippi State', 'Cincinnati', 'Utah', 'Penn State', 'Rutgers', 'Oregon State', 'Iowa', 'Tennessee', 'Tulsa', 'Utah State', 'Maine', 'Tennessee-Martin', 'Richmond', 'Towson', 'Chattanooga', 'Delaware', 'Elon', 'New Hampshire', 'Lamar', 'Central Connecticut State', 'Missouri State', 'Furman', 'Eastern Illinois', 'Eastern Kentucky', 'Bethune-Cookman', 'McNeese State', 'Stony Brook', 'Hampton', 'Kennesaw State', 'Mercer', 'Monmouth', 'Florida A&M', 'Robert Morris', 'Colgate', 'Samford', 'California-Davis', 'South Dakota State', 'Northern Iowa', 'Rhode Island', 'Idaho', 'Weber State', 'Alcorn State', 'Bucknell', 'Eastern Washington', 'Virginia Military Institute', 'Wisconsin', 'William & Mary', 'Notre Dame', 'Bowling Green State', 'South Carolina', 'UCLA', 'Texas', 'Michigan State', 'Portland State', 'Michigan', 'Louisville', 'Wagner', 'Auburn', 'Texas A&M', 'Alabama State', 'Florida', 'Ohio State', 'Idaho State', 'Texas Southern', 'Albany', 'South Dakota', 'Tennessee Tech', 'Southern', 'Stephen F. Austin', 'Montana', 'Central Arkansas', 'Northwestern State', 'Wofford']\n"
          ]
        }
      ],
      "metadata": {
        "colab": {
          "base_uri": "https://localhost:8080/"
        },
        "id": "-nad9T4RJkAv",
        "outputId": "bbe264af-125a-4ae7-ac9f-4367ca75833c"
      }
    },
    {
      "cell_type": "markdown",
      "source": [
        "# Question 4\n",
        "In order to accomodate for the irreproducible property, we require a path that connects each team to another. This can possibly achieved by having no conferences or separate categories for the teams - in other words, if every team was in the same conference, one team will face off against another team which would face off another team, etc. This would connect our states and satisfy the property. \n",
        "\n",
        "Another possibility is to fill in missing connection data points with estimated probabilities of winning. This may or may not produce inaccurate estimations. "
      ],
      "metadata": {
        "id": "KkA4e-M8K9z3"
      }
    }
  ]
}